{
 "cells": [
  {
   "cell_type": "markdown",
   "metadata": {},
   "source": [
    "# Importación de librerias"
   ]
  },
  {
   "cell_type": "code",
   "execution_count": 74,
   "metadata": {
    "ExecuteTime": {
     "end_time": "2020-03-15T10:32:41.142483Z",
     "start_time": "2020-03-15T10:32:41.137340Z"
    }
   },
   "outputs": [],
   "source": [
    "# Importamos las librerias necesarias\n",
    "\n",
    "import numpy as np \n",
    "import pandas as pd \n",
    "import seaborn as sns\n",
    "import matplotlib.pyplot as plt"
   ]
  },
  {
   "cell_type": "markdown",
   "metadata": {},
   "source": [
    "# Importación Datasheet y data exploration"
   ]
  },
  {
   "cell_type": "markdown",
   "metadata": {},
   "source": [
    "## Dataframe"
   ]
  },
  {
   "cell_type": "code",
   "execution_count": 75,
   "metadata": {
    "ExecuteTime": {
     "end_time": "2020-03-15T10:32:43.738623Z",
     "start_time": "2020-03-15T10:32:43.635105Z"
    }
   },
   "outputs": [
    {
     "data": {
      "text/html": [
       "<div>\n",
       "<style scoped>\n",
       "    .dataframe tbody tr th:only-of-type {\n",
       "        vertical-align: middle;\n",
       "    }\n",
       "\n",
       "    .dataframe tbody tr th {\n",
       "        vertical-align: top;\n",
       "    }\n",
       "\n",
       "    .dataframe thead th {\n",
       "        text-align: right;\n",
       "    }\n",
       "</style>\n",
       "<table border=\"1\" class=\"dataframe\">\n",
       "  <thead>\n",
       "    <tr style=\"text-align: right;\">\n",
       "      <th></th>\n",
       "      <th>date</th>\n",
       "      <th>home_team</th>\n",
       "      <th>away_team</th>\n",
       "      <th>home_score</th>\n",
       "      <th>away_score</th>\n",
       "      <th>tournament</th>\n",
       "      <th>city</th>\n",
       "      <th>country</th>\n",
       "      <th>neutral</th>\n",
       "    </tr>\n",
       "  </thead>\n",
       "  <tbody>\n",
       "    <tr>\n",
       "      <th>0</th>\n",
       "      <td>1872-11-30</td>\n",
       "      <td>Scotland</td>\n",
       "      <td>England</td>\n",
       "      <td>0</td>\n",
       "      <td>0</td>\n",
       "      <td>Friendly</td>\n",
       "      <td>Glasgow</td>\n",
       "      <td>Scotland</td>\n",
       "      <td>False</td>\n",
       "    </tr>\n",
       "    <tr>\n",
       "      <th>1</th>\n",
       "      <td>1873-03-08</td>\n",
       "      <td>England</td>\n",
       "      <td>Scotland</td>\n",
       "      <td>4</td>\n",
       "      <td>2</td>\n",
       "      <td>Friendly</td>\n",
       "      <td>London</td>\n",
       "      <td>England</td>\n",
       "      <td>False</td>\n",
       "    </tr>\n",
       "    <tr>\n",
       "      <th>2</th>\n",
       "      <td>1874-03-07</td>\n",
       "      <td>Scotland</td>\n",
       "      <td>England</td>\n",
       "      <td>2</td>\n",
       "      <td>1</td>\n",
       "      <td>Friendly</td>\n",
       "      <td>Glasgow</td>\n",
       "      <td>Scotland</td>\n",
       "      <td>False</td>\n",
       "    </tr>\n",
       "    <tr>\n",
       "      <th>3</th>\n",
       "      <td>1875-03-06</td>\n",
       "      <td>England</td>\n",
       "      <td>Scotland</td>\n",
       "      <td>2</td>\n",
       "      <td>2</td>\n",
       "      <td>Friendly</td>\n",
       "      <td>London</td>\n",
       "      <td>England</td>\n",
       "      <td>False</td>\n",
       "    </tr>\n",
       "    <tr>\n",
       "      <th>4</th>\n",
       "      <td>1876-03-04</td>\n",
       "      <td>Scotland</td>\n",
       "      <td>England</td>\n",
       "      <td>3</td>\n",
       "      <td>0</td>\n",
       "      <td>Friendly</td>\n",
       "      <td>Glasgow</td>\n",
       "      <td>Scotland</td>\n",
       "      <td>False</td>\n",
       "    </tr>\n",
       "  </tbody>\n",
       "</table>\n",
       "</div>"
      ],
      "text/plain": [
       "         date home_team away_team  home_score  away_score tournament     city  \\\n",
       "0  1872-11-30  Scotland   England           0           0   Friendly  Glasgow   \n",
       "1  1873-03-08   England  Scotland           4           2   Friendly   London   \n",
       "2  1874-03-07  Scotland   England           2           1   Friendly  Glasgow   \n",
       "3  1875-03-06   England  Scotland           2           2   Friendly   London   \n",
       "4  1876-03-04  Scotland   England           3           0   Friendly  Glasgow   \n",
       "\n",
       "    country  neutral  \n",
       "0  Scotland    False  \n",
       "1   England    False  \n",
       "2  Scotland    False  \n",
       "3   England    False  \n",
       "4  Scotland    False  "
      ]
     },
     "execution_count": 75,
     "metadata": {},
     "output_type": "execute_result"
    }
   ],
   "source": [
    "# Importamos el datasheet en formato CSV y lo pasamos a DataFrame con el que trabajar.\n",
    "# Hacemos una visualización de las 5 primeras rows para ver qué tipo de datos y columnas tenemos.\n",
    "\n",
    "results = pd.read_csv('results.csv')\n",
    "results.head()"
   ]
  },
  {
   "cell_type": "markdown",
   "metadata": {},
   "source": [
    "** Vemos cada partido disputado, entre qué equipos, los goles de cada uno, en qué torneo fue, así como la fecha, la ciudad y el país donde se disputó el partido."
   ]
  },
  {
   "cell_type": "code",
   "execution_count": 76,
   "metadata": {
    "ExecuteTime": {
     "end_time": "2020-03-15T10:32:45.331404Z",
     "start_time": "2020-03-15T10:32:45.307159Z"
    }
   },
   "outputs": [
    {
     "name": "stdout",
     "output_type": "stream",
     "text": [
      "<class 'pandas.core.frame.DataFrame'>\n",
      "RangeIndex: 41586 entries, 0 to 41585\n",
      "Data columns (total 9 columns):\n",
      "date          41586 non-null object\n",
      "home_team     41586 non-null object\n",
      "away_team     41586 non-null object\n",
      "home_score    41586 non-null int64\n",
      "away_score    41586 non-null int64\n",
      "tournament    41586 non-null object\n",
      "city          41586 non-null object\n",
      "country       41586 non-null object\n",
      "neutral       41586 non-null bool\n",
      "dtypes: bool(1), int64(2), object(6)\n",
      "memory usage: 2.6+ MB\n"
     ]
    }
   ],
   "source": [
    "# Resumen de la información de todo nuestro DataFrame.\n",
    "\n",
    "results.info()"
   ]
  },
  {
   "cell_type": "code",
   "execution_count": 77,
   "metadata": {
    "ExecuteTime": {
     "end_time": "2020-03-15T10:32:46.001775Z",
     "start_time": "2020-03-15T10:32:45.996310Z"
    }
   },
   "outputs": [
    {
     "data": {
      "text/plain": [
       "(41586, 9)"
      ]
     },
     "execution_count": 77,
     "metadata": {},
     "output_type": "execute_result"
    }
   ],
   "source": [
    "# Shape del DataFrame\n",
    "\n",
    "results.shape"
   ]
  },
  {
   "cell_type": "markdown",
   "metadata": {},
   "source": [
    "Este datasheet contiene 41.586 resultados de partidos internacionales, desde el primer partido oficial en 1972 hasta 2019. Incluye tanto competiciones internaciones oficiales como partidos amistosos. No se incluye Juegos Olímpicos. Solo incluye fútbol masculino."
   ]
  },
  {
   "cell_type": "markdown",
   "metadata": {},
   "source": [
    "**Columnas**"
   ]
  },
  {
   "cell_type": "markdown",
   "metadata": {},
   "source": [
    "- Date - Día del partido\n",
    "- home_team - Equipo que actúa como local\n",
    "- away_team - Equipo que actúa como visitante\n",
    "- home_score - Número de goles equipo que actúa como local\n",
    "- away_score - Número de goles equipo que actúa como visitante\n",
    "- tournament - Nombre del torneo\n",
    "- city - Ciudad donde se jugó el partido\n",
    "- country - País donde se jugó el partido\n",
    "- neutral - Si el partido se jugó o no en campo neutral"
   ]
  },
  {
   "cell_type": "markdown",
   "metadata": {},
   "source": [
    "## Revisión de null values"
   ]
  },
  {
   "cell_type": "code",
   "execution_count": 78,
   "metadata": {
    "ExecuteTime": {
     "end_time": "2020-03-15T10:32:48.685605Z",
     "start_time": "2020-03-15T10:32:48.666721Z"
    }
   },
   "outputs": [
    {
     "data": {
      "text/plain": [
       "date          0\n",
       "home_team     0\n",
       "away_team     0\n",
       "home_score    0\n",
       "away_score    0\n",
       "tournament    0\n",
       "city          0\n",
       "country       0\n",
       "neutral       0\n",
       "dtype: int64"
      ]
     },
     "execution_count": 78,
     "metadata": {},
     "output_type": "execute_result"
    }
   ],
   "source": [
    "# Comprobamos si hay null values en el DataFrame\n",
    "\n",
    "results.isnull().sum()"
   ]
  },
  {
   "cell_type": "markdown",
   "metadata": {
    "ExecuteTime": {
     "end_time": "2020-03-15T10:15:59.707667Z",
     "start_time": "2020-03-15T10:15:59.704719Z"
    }
   },
   "source": [
    "# Worldcup Data"
   ]
  },
  {
   "cell_type": "code",
   "execution_count": 79,
   "metadata": {
    "ExecuteTime": {
     "end_time": "2020-03-15T10:32:50.523294Z",
     "start_time": "2020-03-15T10:32:50.514502Z"
    }
   },
   "outputs": [
    {
     "data": {
      "text/plain": [
       "array(['Friendly', 'British Championship', 'Copa Lipton', 'Copa Newton',\n",
       "       'Copa Premio Honor Argentino', 'Copa Premio Honor Uruguayo',\n",
       "       'Copa Roca', 'Copa América', 'Copa Chevallier Boutell',\n",
       "       'Nordic Championship', 'International Cup', 'Baltic Cup',\n",
       "       'Balkan Cup', 'FIFA World Cup', 'Copa Rio Branco',\n",
       "       'FIFA World Cup qualification', 'CCCF Championship',\n",
       "       'NAFU Championship', 'Copa Oswaldo Cruz',\n",
       "       'Pan American Championship', 'Copa del Pacífico',\n",
       "       \"Copa Bernardo O'Higgins\", 'AFC Asian Cup qualification',\n",
       "       'Atlantic Cup', 'AFC Asian Cup', 'African Cup of Nations',\n",
       "       'Copa Paz del Chaco', 'Merdeka Tournament',\n",
       "       'UEFA Euro qualification', 'UEFA Euro',\n",
       "       'Windward Islands Tournament',\n",
       "       'African Cup of Nations qualification', 'Vietnam Independence Cup',\n",
       "       'Copa Carlos Dittborn', 'CONCACAF Championship',\n",
       "       'Copa Juan Pinto Durán', 'UAFA Cup', 'South Pacific Games',\n",
       "       'CONCACAF Championship qualification', 'Copa Artigas', 'GaNEFo',\n",
       "       \"King's Cup\", 'Gulf Cup', 'Indonesia Tournament', 'Korea Cup',\n",
       "       'Brazil Independence Cup', 'Copa Ramón Castilla',\n",
       "       'Oceania Nations Cup', 'CECAFA Cup', 'Copa Félix Bogado',\n",
       "       'Kirin Cup', 'CFU Caribbean Cup qualification',\n",
       "       'CFU Caribbean Cup', 'Amílcar Cabral Cup', 'Mundialito',\n",
       "       'West African Cup', 'Nehru Cup', 'Merlion Cup', 'UDEAC Cup',\n",
       "       'Rous Cup', 'Lunar New Year Cup', 'Tournoi de France',\n",
       "       'Malta International Tournament', 'Island Games', 'Dynasty Cup',\n",
       "       'UNCAF Cup', 'Gold Cup', 'USA Cup',\n",
       "       'Jordan International Tournament', 'Confederations Cup',\n",
       "       'United Arab Emirates Friendship Tournament',\n",
       "       'Oceania Nations Cup qualification', 'Simba Tournament',\n",
       "       'SAFF Cup', 'AFF Championship', 'King Hassan II Tournament',\n",
       "       'Cyprus International Tournament', 'Dunhill Cup', 'COSAFA Cup',\n",
       "       'Gold Cup qualification', 'SKN Football Festival', 'UNIFFAC Cup',\n",
       "       'WAFF Championship', 'Millennium Cup', \"Prime Minister's Cup\",\n",
       "       'EAFF Championship', 'AFC Challenge Cup', 'FIFI Wild Cup',\n",
       "       'ELF Cup', 'Viva World Cup', 'UAFA Cup qualification',\n",
       "       'AFC Challenge Cup qualification', 'African Nations Championship',\n",
       "       'VFF Cup', 'Dragon Cup', 'ABCS Tournament',\n",
       "       'Nile Basin Tournament', 'Nations Cup', 'Pacific Games', 'OSN Cup',\n",
       "       'CONIFA World Football Cup', 'CONIFA European Football Cup',\n",
       "       'Copa América qualification', 'World Unity Cup',\n",
       "       'Intercontinental Cup', 'AFF Championship qualification',\n",
       "       'UEFA Nations League', 'CONCACAF Nations League qualification',\n",
       "       'African Nations Championship qualification',\n",
       "       'Atlantic Heritage Cup', 'Inter Games Football Tournament',\n",
       "       'CONCACAF Nations League'], dtype=object)"
      ]
     },
     "execution_count": 79,
     "metadata": {},
     "output_type": "execute_result"
    }
   ],
   "source": [
    "# Vamos a ver cuáles son los diferentes Tournaments que hay\n",
    "\n",
    "results.tournament.unique()"
   ]
  },
  {
   "cell_type": "markdown",
   "metadata": {},
   "source": [
    "**Seleccionaremos el torneo Worldcup para nuestro proyecto y visualización**"
   ]
  },
  {
   "cell_type": "code",
   "execution_count": 80,
   "metadata": {
    "ExecuteTime": {
     "end_time": "2020-03-15T10:32:55.641128Z",
     "start_time": "2020-03-15T10:32:55.613661Z"
    }
   },
   "outputs": [
    {
     "data": {
      "text/html": [
       "<div>\n",
       "<style scoped>\n",
       "    .dataframe tbody tr th:only-of-type {\n",
       "        vertical-align: middle;\n",
       "    }\n",
       "\n",
       "    .dataframe tbody tr th {\n",
       "        vertical-align: top;\n",
       "    }\n",
       "\n",
       "    .dataframe thead th {\n",
       "        text-align: right;\n",
       "    }\n",
       "</style>\n",
       "<table border=\"1\" class=\"dataframe\">\n",
       "  <thead>\n",
       "    <tr style=\"text-align: right;\">\n",
       "      <th></th>\n",
       "      <th>date</th>\n",
       "      <th>home_team</th>\n",
       "      <th>away_team</th>\n",
       "      <th>home_score</th>\n",
       "      <th>away_score</th>\n",
       "      <th>tournament</th>\n",
       "      <th>city</th>\n",
       "      <th>country</th>\n",
       "      <th>neutral</th>\n",
       "    </tr>\n",
       "  </thead>\n",
       "  <tbody>\n",
       "    <tr>\n",
       "      <th>1304</th>\n",
       "      <td>1930-07-13</td>\n",
       "      <td>Belgium</td>\n",
       "      <td>United States</td>\n",
       "      <td>0</td>\n",
       "      <td>3</td>\n",
       "      <td>FIFA World Cup</td>\n",
       "      <td>Montevideo</td>\n",
       "      <td>Uruguay</td>\n",
       "      <td>True</td>\n",
       "    </tr>\n",
       "    <tr>\n",
       "      <th>1305</th>\n",
       "      <td>1930-07-13</td>\n",
       "      <td>France</td>\n",
       "      <td>Mexico</td>\n",
       "      <td>4</td>\n",
       "      <td>1</td>\n",
       "      <td>FIFA World Cup</td>\n",
       "      <td>Montevideo</td>\n",
       "      <td>Uruguay</td>\n",
       "      <td>True</td>\n",
       "    </tr>\n",
       "    <tr>\n",
       "      <th>1306</th>\n",
       "      <td>1930-07-14</td>\n",
       "      <td>Brazil</td>\n",
       "      <td>Yugoslavia</td>\n",
       "      <td>1</td>\n",
       "      <td>2</td>\n",
       "      <td>FIFA World Cup</td>\n",
       "      <td>Montevideo</td>\n",
       "      <td>Uruguay</td>\n",
       "      <td>True</td>\n",
       "    </tr>\n",
       "    <tr>\n",
       "      <th>1307</th>\n",
       "      <td>1930-07-14</td>\n",
       "      <td>Peru</td>\n",
       "      <td>Romania</td>\n",
       "      <td>1</td>\n",
       "      <td>3</td>\n",
       "      <td>FIFA World Cup</td>\n",
       "      <td>Montevideo</td>\n",
       "      <td>Uruguay</td>\n",
       "      <td>True</td>\n",
       "    </tr>\n",
       "    <tr>\n",
       "      <th>1308</th>\n",
       "      <td>1930-07-15</td>\n",
       "      <td>Argentina</td>\n",
       "      <td>France</td>\n",
       "      <td>1</td>\n",
       "      <td>0</td>\n",
       "      <td>FIFA World Cup</td>\n",
       "      <td>Montevideo</td>\n",
       "      <td>Uruguay</td>\n",
       "      <td>True</td>\n",
       "    </tr>\n",
       "    <tr>\n",
       "      <th>...</th>\n",
       "      <td>...</td>\n",
       "      <td>...</td>\n",
       "      <td>...</td>\n",
       "      <td>...</td>\n",
       "      <td>...</td>\n",
       "      <td>...</td>\n",
       "      <td>...</td>\n",
       "      <td>...</td>\n",
       "      <td>...</td>\n",
       "    </tr>\n",
       "    <tr>\n",
       "      <th>39945</th>\n",
       "      <td>2018-07-07</td>\n",
       "      <td>Russia</td>\n",
       "      <td>Croatia</td>\n",
       "      <td>2</td>\n",
       "      <td>2</td>\n",
       "      <td>FIFA World Cup</td>\n",
       "      <td>Sochi</td>\n",
       "      <td>Russia</td>\n",
       "      <td>False</td>\n",
       "    </tr>\n",
       "    <tr>\n",
       "      <th>39946</th>\n",
       "      <td>2018-07-10</td>\n",
       "      <td>France</td>\n",
       "      <td>Belgium</td>\n",
       "      <td>1</td>\n",
       "      <td>0</td>\n",
       "      <td>FIFA World Cup</td>\n",
       "      <td>St. Petersburg</td>\n",
       "      <td>Russia</td>\n",
       "      <td>True</td>\n",
       "    </tr>\n",
       "    <tr>\n",
       "      <th>39947</th>\n",
       "      <td>2018-07-11</td>\n",
       "      <td>Croatia</td>\n",
       "      <td>England</td>\n",
       "      <td>2</td>\n",
       "      <td>1</td>\n",
       "      <td>FIFA World Cup</td>\n",
       "      <td>Moscow</td>\n",
       "      <td>Russia</td>\n",
       "      <td>True</td>\n",
       "    </tr>\n",
       "    <tr>\n",
       "      <th>39948</th>\n",
       "      <td>2018-07-14</td>\n",
       "      <td>Belgium</td>\n",
       "      <td>England</td>\n",
       "      <td>2</td>\n",
       "      <td>0</td>\n",
       "      <td>FIFA World Cup</td>\n",
       "      <td>St. Petersburg</td>\n",
       "      <td>Russia</td>\n",
       "      <td>True</td>\n",
       "    </tr>\n",
       "    <tr>\n",
       "      <th>39949</th>\n",
       "      <td>2018-07-15</td>\n",
       "      <td>France</td>\n",
       "      <td>Croatia</td>\n",
       "      <td>4</td>\n",
       "      <td>2</td>\n",
       "      <td>FIFA World Cup</td>\n",
       "      <td>Moscow</td>\n",
       "      <td>Russia</td>\n",
       "      <td>True</td>\n",
       "    </tr>\n",
       "  </tbody>\n",
       "</table>\n",
       "<p>900 rows × 9 columns</p>\n",
       "</div>"
      ],
      "text/plain": [
       "             date  home_team      away_team  home_score  away_score  \\\n",
       "1304   1930-07-13    Belgium  United States           0           3   \n",
       "1305   1930-07-13     France         Mexico           4           1   \n",
       "1306   1930-07-14     Brazil     Yugoslavia           1           2   \n",
       "1307   1930-07-14       Peru        Romania           1           3   \n",
       "1308   1930-07-15  Argentina         France           1           0   \n",
       "...           ...        ...            ...         ...         ...   \n",
       "39945  2018-07-07     Russia        Croatia           2           2   \n",
       "39946  2018-07-10     France        Belgium           1           0   \n",
       "39947  2018-07-11    Croatia        England           2           1   \n",
       "39948  2018-07-14    Belgium        England           2           0   \n",
       "39949  2018-07-15     France        Croatia           4           2   \n",
       "\n",
       "           tournament            city  country  neutral  \n",
       "1304   FIFA World Cup      Montevideo  Uruguay     True  \n",
       "1305   FIFA World Cup      Montevideo  Uruguay     True  \n",
       "1306   FIFA World Cup      Montevideo  Uruguay     True  \n",
       "1307   FIFA World Cup      Montevideo  Uruguay     True  \n",
       "1308   FIFA World Cup      Montevideo  Uruguay     True  \n",
       "...               ...             ...      ...      ...  \n",
       "39945  FIFA World Cup           Sochi   Russia    False  \n",
       "39946  FIFA World Cup  St. Petersburg   Russia     True  \n",
       "39947  FIFA World Cup          Moscow   Russia     True  \n",
       "39948  FIFA World Cup  St. Petersburg   Russia     True  \n",
       "39949  FIFA World Cup          Moscow   Russia     True  \n",
       "\n",
       "[900 rows x 9 columns]"
      ]
     },
     "execution_count": 80,
     "metadata": {},
     "output_type": "execute_result"
    }
   ],
   "source": [
    "worldcup = results[(results['tournament'] == \"FIFA World Cup\")]\n",
    "worldcup"
   ]
  },
  {
   "cell_type": "markdown",
   "metadata": {},
   "source": [
    "## Manipulación Dataframe Worldcup"
   ]
  },
  {
   "cell_type": "markdown",
   "metadata": {},
   "source": [
    "**Creamos una columna que a nivel de fechas refleje únicamente el año del partido.**"
   ]
  },
  {
   "cell_type": "code",
   "execution_count": 81,
   "metadata": {
    "ExecuteTime": {
     "end_time": "2020-03-15T10:32:59.961478Z",
     "start_time": "2020-03-15T10:32:59.940189Z"
    }
   },
   "outputs": [
    {
     "name": "stderr",
     "output_type": "stream",
     "text": [
      "<ipython-input-81-b7c07291a443>:3: SettingWithCopyWarning: \n",
      "A value is trying to be set on a copy of a slice from a DataFrame.\n",
      "Try using .loc[row_indexer,col_indexer] = value instead\n",
      "\n",
      "See the caveats in the documentation: http://pandas.pydata.org/pandas-docs/stable/user_guide/indexing.html#returning-a-view-versus-a-copy\n",
      "  worldcup[\"date\"] = pd.to_datetime(worldcup[\"date\"])\n",
      "<ipython-input-81-b7c07291a443>:7: SettingWithCopyWarning: \n",
      "A value is trying to be set on a copy of a slice from a DataFrame.\n",
      "Try using .loc[row_indexer,col_indexer] = value instead\n",
      "\n",
      "See the caveats in the documentation: http://pandas.pydata.org/pandas-docs/stable/user_guide/indexing.html#returning-a-view-versus-a-copy\n",
      "  worldcup[\"year\"] = worldcup[\"date\"].dt.year\n"
     ]
    },
    {
     "data": {
      "text/html": [
       "<div>\n",
       "<style scoped>\n",
       "    .dataframe tbody tr th:only-of-type {\n",
       "        vertical-align: middle;\n",
       "    }\n",
       "\n",
       "    .dataframe tbody tr th {\n",
       "        vertical-align: top;\n",
       "    }\n",
       "\n",
       "    .dataframe thead th {\n",
       "        text-align: right;\n",
       "    }\n",
       "</style>\n",
       "<table border=\"1\" class=\"dataframe\">\n",
       "  <thead>\n",
       "    <tr style=\"text-align: right;\">\n",
       "      <th></th>\n",
       "      <th>home_team</th>\n",
       "      <th>away_team</th>\n",
       "      <th>home_score</th>\n",
       "      <th>away_score</th>\n",
       "      <th>tournament</th>\n",
       "      <th>country</th>\n",
       "      <th>year</th>\n",
       "    </tr>\n",
       "  </thead>\n",
       "  <tbody>\n",
       "    <tr>\n",
       "      <th>1304</th>\n",
       "      <td>Belgium</td>\n",
       "      <td>United States</td>\n",
       "      <td>0</td>\n",
       "      <td>3</td>\n",
       "      <td>FIFA World Cup</td>\n",
       "      <td>Uruguay</td>\n",
       "      <td>1930</td>\n",
       "    </tr>\n",
       "    <tr>\n",
       "      <th>1305</th>\n",
       "      <td>France</td>\n",
       "      <td>Mexico</td>\n",
       "      <td>4</td>\n",
       "      <td>1</td>\n",
       "      <td>FIFA World Cup</td>\n",
       "      <td>Uruguay</td>\n",
       "      <td>1930</td>\n",
       "    </tr>\n",
       "    <tr>\n",
       "      <th>1306</th>\n",
       "      <td>Brazil</td>\n",
       "      <td>Yugoslavia</td>\n",
       "      <td>1</td>\n",
       "      <td>2</td>\n",
       "      <td>FIFA World Cup</td>\n",
       "      <td>Uruguay</td>\n",
       "      <td>1930</td>\n",
       "    </tr>\n",
       "    <tr>\n",
       "      <th>1307</th>\n",
       "      <td>Peru</td>\n",
       "      <td>Romania</td>\n",
       "      <td>1</td>\n",
       "      <td>3</td>\n",
       "      <td>FIFA World Cup</td>\n",
       "      <td>Uruguay</td>\n",
       "      <td>1930</td>\n",
       "    </tr>\n",
       "    <tr>\n",
       "      <th>1308</th>\n",
       "      <td>Argentina</td>\n",
       "      <td>France</td>\n",
       "      <td>1</td>\n",
       "      <td>0</td>\n",
       "      <td>FIFA World Cup</td>\n",
       "      <td>Uruguay</td>\n",
       "      <td>1930</td>\n",
       "    </tr>\n",
       "  </tbody>\n",
       "</table>\n",
       "</div>"
      ],
      "text/plain": [
       "      home_team      away_team  home_score  away_score      tournament  \\\n",
       "1304    Belgium  United States           0           3  FIFA World Cup   \n",
       "1305     France         Mexico           4           1  FIFA World Cup   \n",
       "1306     Brazil     Yugoslavia           1           2  FIFA World Cup   \n",
       "1307       Peru        Romania           1           3  FIFA World Cup   \n",
       "1308  Argentina         France           1           0  FIFA World Cup   \n",
       "\n",
       "      country  year  \n",
       "1304  Uruguay  1930  \n",
       "1305  Uruguay  1930  \n",
       "1306  Uruguay  1930  \n",
       "1307  Uruguay  1930  \n",
       "1308  Uruguay  1930  "
      ]
     },
     "execution_count": 81,
     "metadata": {},
     "output_type": "execute_result"
    }
   ],
   "source": [
    "# La columna date está como object. Convertimos a formato datetime.\n",
    "\n",
    "worldcup[\"date\"] = pd.to_datetime(worldcup[\"date\"])\n",
    "\n",
    "# Incluimos en nuestro DF la columna reflejando únicamente el año del partido.\n",
    "\n",
    "worldcup[\"year\"] = worldcup[\"date\"].dt.year\n",
    "\n",
    "# Seleccionamos y Reordenamos columnas para mejor interpretación de data.\n",
    "\n",
    "worldcup = worldcup[[\"home_team\",\"away_team\",\"home_score\",\"away_score\",\"tournament\",\"country\",\"year\"]]\n",
    "worldcup.head()"
   ]
  },
  {
   "cell_type": "markdown",
   "metadata": {},
   "source": [
    "**Creamos una columna para reflejar el ganador de cada partido o si ha sido empate**"
   ]
  },
  {
   "cell_type": "code",
   "execution_count": 82,
   "metadata": {
    "ExecuteTime": {
     "end_time": "2020-03-15T10:33:02.695668Z",
     "start_time": "2020-03-15T10:33:02.554482Z"
    }
   },
   "outputs": [
    {
     "name": "stderr",
     "output_type": "stream",
     "text": [
      "<ipython-input-82-1e0bc56dd896>:15: SettingWithCopyWarning: \n",
      "A value is trying to be set on a copy of a slice from a DataFrame.\n",
      "Try using .loc[row_indexer,col_indexer] = value instead\n",
      "\n",
      "See the caveats in the documentation: http://pandas.pydata.org/pandas-docs/stable/user_guide/indexing.html#returning-a-view-versus-a-copy\n",
      "  worldcup[\"winner\"] = winner_team\n"
     ]
    },
    {
     "data": {
      "text/html": [
       "<div>\n",
       "<style scoped>\n",
       "    .dataframe tbody tr th:only-of-type {\n",
       "        vertical-align: middle;\n",
       "    }\n",
       "\n",
       "    .dataframe tbody tr th {\n",
       "        vertical-align: top;\n",
       "    }\n",
       "\n",
       "    .dataframe thead th {\n",
       "        text-align: right;\n",
       "    }\n",
       "</style>\n",
       "<table border=\"1\" class=\"dataframe\">\n",
       "  <thead>\n",
       "    <tr style=\"text-align: right;\">\n",
       "      <th></th>\n",
       "      <th>home_team</th>\n",
       "      <th>away_team</th>\n",
       "      <th>home_score</th>\n",
       "      <th>away_score</th>\n",
       "      <th>tournament</th>\n",
       "      <th>country</th>\n",
       "      <th>year</th>\n",
       "      <th>winner</th>\n",
       "    </tr>\n",
       "  </thead>\n",
       "  <tbody>\n",
       "    <tr>\n",
       "      <th>1304</th>\n",
       "      <td>Belgium</td>\n",
       "      <td>United States</td>\n",
       "      <td>0</td>\n",
       "      <td>3</td>\n",
       "      <td>FIFA World Cup</td>\n",
       "      <td>Uruguay</td>\n",
       "      <td>1930</td>\n",
       "      <td>United States</td>\n",
       "    </tr>\n",
       "    <tr>\n",
       "      <th>1305</th>\n",
       "      <td>France</td>\n",
       "      <td>Mexico</td>\n",
       "      <td>4</td>\n",
       "      <td>1</td>\n",
       "      <td>FIFA World Cup</td>\n",
       "      <td>Uruguay</td>\n",
       "      <td>1930</td>\n",
       "      <td>France</td>\n",
       "    </tr>\n",
       "    <tr>\n",
       "      <th>1306</th>\n",
       "      <td>Brazil</td>\n",
       "      <td>Yugoslavia</td>\n",
       "      <td>1</td>\n",
       "      <td>2</td>\n",
       "      <td>FIFA World Cup</td>\n",
       "      <td>Uruguay</td>\n",
       "      <td>1930</td>\n",
       "      <td>Yugoslavia</td>\n",
       "    </tr>\n",
       "    <tr>\n",
       "      <th>1307</th>\n",
       "      <td>Peru</td>\n",
       "      <td>Romania</td>\n",
       "      <td>1</td>\n",
       "      <td>3</td>\n",
       "      <td>FIFA World Cup</td>\n",
       "      <td>Uruguay</td>\n",
       "      <td>1930</td>\n",
       "      <td>Romania</td>\n",
       "    </tr>\n",
       "    <tr>\n",
       "      <th>1308</th>\n",
       "      <td>Argentina</td>\n",
       "      <td>France</td>\n",
       "      <td>1</td>\n",
       "      <td>0</td>\n",
       "      <td>FIFA World Cup</td>\n",
       "      <td>Uruguay</td>\n",
       "      <td>1930</td>\n",
       "      <td>Argentina</td>\n",
       "    </tr>\n",
       "  </tbody>\n",
       "</table>\n",
       "</div>"
      ],
      "text/plain": [
       "      home_team      away_team  home_score  away_score      tournament  \\\n",
       "1304    Belgium  United States           0           3  FIFA World Cup   \n",
       "1305     France         Mexico           4           1  FIFA World Cup   \n",
       "1306     Brazil     Yugoslavia           1           2  FIFA World Cup   \n",
       "1307       Peru        Romania           1           3  FIFA World Cup   \n",
       "1308  Argentina         France           1           0  FIFA World Cup   \n",
       "\n",
       "      country  year         winner  \n",
       "1304  Uruguay  1930  United States  \n",
       "1305  Uruguay  1930         France  \n",
       "1306  Uruguay  1930     Yugoslavia  \n",
       "1307  Uruguay  1930        Romania  \n",
       "1308  Uruguay  1930      Argentina  "
      ]
     },
     "execution_count": 82,
     "metadata": {},
     "output_type": "execute_result"
    }
   ],
   "source": [
    "# Creamos lista donde incluiremos quién ha sido el ganador de cada partido.\n",
    "\n",
    "winner_team = []\n",
    "\n",
    "for i, row in worldcup.iterrows():\n",
    "    if row[\"home_score\"] > row[\"away_score\"]:\n",
    "        winner_team.append(row[\"home_team\"])\n",
    "    elif row[\"home_score\"] < row[\"away_score\"]:\n",
    "        winner_team.append(row[\"away_team\"])\n",
    "    else:\n",
    "        winner_team.append(\"Draw\")\n",
    "\n",
    "# Creamos una nueva columna en nuestro DF donde se reflejen los valores de la lista creada\n",
    "\n",
    "worldcup[\"winner\"] = winner_team\n",
    "\n",
    "# Visualizamos primeras 5 rows para ver cómo queda.\n",
    "\n",
    "worldcup.head()"
   ]
  },
  {
   "cell_type": "markdown",
   "metadata": {
    "ExecuteTime": {
     "end_time": "2020-03-15T08:51:48.561341Z",
     "start_time": "2020-03-15T08:51:48.556855Z"
    }
   },
   "source": [
    "**Creamos una columna con el Total de goles para cada partido.**"
   ]
  },
  {
   "cell_type": "code",
   "execution_count": 83,
   "metadata": {
    "ExecuteTime": {
     "end_time": "2020-03-15T10:33:08.274434Z",
     "start_time": "2020-03-15T10:33:08.259643Z"
    }
   },
   "outputs": [
    {
     "name": "stderr",
     "output_type": "stream",
     "text": [
      "<ipython-input-83-b39fef8fe76d>:3: SettingWithCopyWarning: \n",
      "A value is trying to be set on a copy of a slice from a DataFrame.\n",
      "Try using .loc[row_indexer,col_indexer] = value instead\n",
      "\n",
      "See the caveats in the documentation: http://pandas.pydata.org/pandas-docs/stable/user_guide/indexing.html#returning-a-view-versus-a-copy\n",
      "  worldcup[\"total_goals\"] = worldcup[\"home_score\"] + worldcup[\"away_score\"]\n"
     ]
    },
    {
     "data": {
      "text/html": [
       "<div>\n",
       "<style scoped>\n",
       "    .dataframe tbody tr th:only-of-type {\n",
       "        vertical-align: middle;\n",
       "    }\n",
       "\n",
       "    .dataframe tbody tr th {\n",
       "        vertical-align: top;\n",
       "    }\n",
       "\n",
       "    .dataframe thead th {\n",
       "        text-align: right;\n",
       "    }\n",
       "</style>\n",
       "<table border=\"1\" class=\"dataframe\">\n",
       "  <thead>\n",
       "    <tr style=\"text-align: right;\">\n",
       "      <th></th>\n",
       "      <th>home_team</th>\n",
       "      <th>away_team</th>\n",
       "      <th>home_score</th>\n",
       "      <th>away_score</th>\n",
       "      <th>tournament</th>\n",
       "      <th>country</th>\n",
       "      <th>year</th>\n",
       "      <th>winner</th>\n",
       "      <th>total_goals</th>\n",
       "    </tr>\n",
       "  </thead>\n",
       "  <tbody>\n",
       "    <tr>\n",
       "      <th>1304</th>\n",
       "      <td>Belgium</td>\n",
       "      <td>United States</td>\n",
       "      <td>0</td>\n",
       "      <td>3</td>\n",
       "      <td>FIFA World Cup</td>\n",
       "      <td>Uruguay</td>\n",
       "      <td>1930</td>\n",
       "      <td>United States</td>\n",
       "      <td>3</td>\n",
       "    </tr>\n",
       "    <tr>\n",
       "      <th>1305</th>\n",
       "      <td>France</td>\n",
       "      <td>Mexico</td>\n",
       "      <td>4</td>\n",
       "      <td>1</td>\n",
       "      <td>FIFA World Cup</td>\n",
       "      <td>Uruguay</td>\n",
       "      <td>1930</td>\n",
       "      <td>France</td>\n",
       "      <td>5</td>\n",
       "    </tr>\n",
       "    <tr>\n",
       "      <th>1306</th>\n",
       "      <td>Brazil</td>\n",
       "      <td>Yugoslavia</td>\n",
       "      <td>1</td>\n",
       "      <td>2</td>\n",
       "      <td>FIFA World Cup</td>\n",
       "      <td>Uruguay</td>\n",
       "      <td>1930</td>\n",
       "      <td>Yugoslavia</td>\n",
       "      <td>3</td>\n",
       "    </tr>\n",
       "    <tr>\n",
       "      <th>1307</th>\n",
       "      <td>Peru</td>\n",
       "      <td>Romania</td>\n",
       "      <td>1</td>\n",
       "      <td>3</td>\n",
       "      <td>FIFA World Cup</td>\n",
       "      <td>Uruguay</td>\n",
       "      <td>1930</td>\n",
       "      <td>Romania</td>\n",
       "      <td>4</td>\n",
       "    </tr>\n",
       "    <tr>\n",
       "      <th>1308</th>\n",
       "      <td>Argentina</td>\n",
       "      <td>France</td>\n",
       "      <td>1</td>\n",
       "      <td>0</td>\n",
       "      <td>FIFA World Cup</td>\n",
       "      <td>Uruguay</td>\n",
       "      <td>1930</td>\n",
       "      <td>Argentina</td>\n",
       "      <td>1</td>\n",
       "    </tr>\n",
       "  </tbody>\n",
       "</table>\n",
       "</div>"
      ],
      "text/plain": [
       "      home_team      away_team  home_score  away_score      tournament  \\\n",
       "1304    Belgium  United States           0           3  FIFA World Cup   \n",
       "1305     France         Mexico           4           1  FIFA World Cup   \n",
       "1306     Brazil     Yugoslavia           1           2  FIFA World Cup   \n",
       "1307       Peru        Romania           1           3  FIFA World Cup   \n",
       "1308  Argentina         France           1           0  FIFA World Cup   \n",
       "\n",
       "      country  year         winner  total_goals  \n",
       "1304  Uruguay  1930  United States            3  \n",
       "1305  Uruguay  1930         France            5  \n",
       "1306  Uruguay  1930     Yugoslavia            3  \n",
       "1307  Uruguay  1930        Romania            4  \n",
       "1308  Uruguay  1930      Argentina            1  "
      ]
     },
     "execution_count": 83,
     "metadata": {},
     "output_type": "execute_result"
    }
   ],
   "source": [
    "# Añadimos numero de goles totales a nuestro dataset de Worldcup\n",
    "\n",
    "worldcup[\"total_goals\"] = worldcup[\"home_score\"] + worldcup[\"away_score\"]\n",
    "\n",
    "worldcup.head()"
   ]
  },
  {
   "cell_type": "markdown",
   "metadata": {
    "ExecuteTime": {
     "end_time": "2020-03-15T08:51:56.309841Z",
     "start_time": "2020-03-15T08:51:56.305985Z"
    }
   },
   "source": [
    "# Data Visualization"
   ]
  },
  {
   "cell_type": "markdown",
   "metadata": {
    "ExecuteTime": {
     "end_time": "2020-03-15T08:51:56.777832Z",
     "start_time": "2020-03-15T08:51:56.774605Z"
    }
   },
   "source": [
    "## Selecciones con mayor número de victorias en Worldcup"
   ]
  },
  {
   "cell_type": "code",
   "execution_count": 84,
   "metadata": {
    "ExecuteTime": {
     "end_time": "2020-03-15T10:33:13.760203Z",
     "start_time": "2020-03-15T10:33:13.747796Z"
    }
   },
   "outputs": [
    {
     "data": {
      "text/plain": [
       "Draw           199\n",
       "Brazil          73\n",
       "Germany         67\n",
       "Italy           45\n",
       "Argentina       43\n",
       "              ... \n",
       "Wales            1\n",
       "Cuba             1\n",
       "Jamaica          1\n",
       "Slovenia         1\n",
       "North Korea      1\n",
       "Name: winner, Length: 63, dtype: int64"
      ]
     },
     "execution_count": 84,
     "metadata": {},
     "output_type": "execute_result"
    }
   ],
   "source": [
    "worldcup[\"winner\"].value_counts()"
   ]
  },
  {
   "cell_type": "code",
   "execution_count": 85,
   "metadata": {
    "ExecuteTime": {
     "end_time": "2020-03-15T10:33:15.288375Z",
     "start_time": "2020-03-15T10:33:14.708156Z"
    }
   },
   "outputs": [
    {
     "data": {
      "text/plain": [
       "(array([ 0,  1,  2,  3,  4,  5,  6,  7,  8,  9, 10, 11, 12, 13, 14, 15, 16,\n",
       "        17, 18, 19, 20, 21, 22, 23]), <a list of 24 Text xticklabel objects>)"
      ]
     },
     "execution_count": 85,
     "metadata": {},
     "output_type": "execute_result"
    },
    {
     "data": {
      "image/png": "[encoded data removed]",
      "text/plain": [
       "<Figure size 1440x720 with 1 Axes>"
      ]
     },
     "metadata": {
      "needs_background": "light"
     },
     "output_type": "display_data"
    }
   ],
   "source": [
    "plt.figure(figsize = (20,10))\n",
    "\n",
    "sns.countplot(x = \"winner\", data = worldcup, order = worldcup[\"winner\"].value_counts()[1:25].index)\n",
    "\n",
    "plt.title(\"25 Selecciones Mayor Número Victorias en Historia Worldcup\", fontsize = 20)\n",
    "plt.ylabel(\"Número partidos ganados\", fontsize = 15)\n",
    "plt.xlabel(\"País\", fontsize = 15)\n",
    "plt.xticks(rotation=45)"
   ]
  },
  {
   "cell_type": "markdown",
   "metadata": {},
   "source": [
    "- **Vemos como Brasil es la selección con mayor número de victorias en la historia de las Worldcups**\n",
    "- La sigue Alemania y ya a mayor distancia aparecen Italia y Argentina."
   ]
  },
  {
   "cell_type": "markdown",
   "metadata": {
    "ExecuteTime": {
     "end_time": "2020-03-15T10:22:33.752821Z",
     "start_time": "2020-03-15T10:22:33.749060Z"
    }
   },
   "source": [
    "## Evolución del número de goles en cada Worldcup"
   ]
  },
  {
   "cell_type": "code",
   "execution_count": 86,
   "metadata": {
    "ExecuteTime": {
     "end_time": "2020-03-15T10:38:31.468990Z",
     "start_time": "2020-03-15T10:38:31.458458Z"
    }
   },
   "outputs": [
    {
     "data": {
      "text/plain": [
       "year\n",
       "1930     70\n",
       "1934     70\n",
       "1938     84\n",
       "1950     88\n",
       "1954    140\n",
       "Name: total_goals, dtype: int64"
      ]
     },
     "execution_count": 86,
     "metadata": {},
     "output_type": "execute_result"
    }
   ],
   "source": [
    "goals_evolution = worldcup.groupby(['year'])['total_goals'].sum()\n",
    "goals_evolution.head()"
   ]
  },
  {
   "cell_type": "code",
   "execution_count": 87,
   "metadata": {
    "ExecuteTime": {
     "end_time": "2020-03-15T10:38:32.660577Z",
     "start_time": "2020-03-15T10:38:32.285830Z"
    }
   },
   "outputs": [
    {
     "data": {
      "text/plain": [
       "(array([ 60.,  80., 100., 120., 140., 160., 180.]),\n",
       " <a list of 7 Text yticklabel objects>)"
      ]
     },
     "execution_count": 87,
     "metadata": {},
     "output_type": "execute_result"
    },
    {
     "data": {
      "image/png": "[encoded data removed]",
      "text/plain": [
       "<Figure size 1080x576 with 1 Axes>"
      ]
     },
     "metadata": {
      "needs_background": "light"
     },
     "output_type": "display_data"
    }
   ],
   "source": [
    "plt.figure(figsize = (15,8))\n",
    "\n",
    "ax = goals_evolution.plot(kind = 'line')\n",
    "ax.set_title('Evolución número de goles', fontsize = 20)\n",
    "ax.set_xlabel('Año', fontsize = 20)\n",
    "ax.set_ylabel('Número total goles', fontsize = 20)\n",
    "plt.xticks(fontsize = 15, rotation = 45)\n",
    "plt.yticks(fontsize = 15)"
   ]
  },
  {
   "cell_type": "markdown",
   "metadata": {},
   "source": [
    "- **Vemos como la tendencia a lo largo de los Worldcups disputados es la de un mayor número de goles**\n",
    "- Está influido por el número de partidos que se juegan en cada Worldcup, como veremos más adelante."
   ]
  },
  {
   "cell_type": "markdown",
   "metadata": {
    "ExecuteTime": {
     "end_time": "2020-03-15T10:23:26.631436Z",
     "start_time": "2020-03-15T10:23:26.625279Z"
    }
   },
   "source": [
    "## Histrograma Distribución goles por partido."
   ]
  },
  {
   "cell_type": "code",
   "execution_count": 88,
   "metadata": {
    "ExecuteTime": {
     "end_time": "2020-03-15T10:38:35.450462Z",
     "start_time": "2020-03-15T10:38:35.254953Z"
    }
   },
   "outputs": [
    {
     "data": {
      "image/png": "[encoded data removed]",
      "text/plain": [
       "<Figure size 432x288 with 1 Axes>"
      ]
     },
     "metadata": {
      "needs_background": "light"
     },
     "output_type": "display_data"
    }
   ],
   "source": [
    "fig, ax = plt.subplots()\n",
    "\n",
    "ax.hist(worldcup['total_goals'], bins = 5)\n",
    "plt.title('Normal Distribution Histogram',fontsize=15)\n",
    "plt.xlabel('Número goles por partido',fontsize=15)\n",
    "plt.ylabel('Frecuencia',fontsize = 15)\n",
    "plt.xticks(fontsize = 15)\n",
    "plt.yticks(fontsize = 10)\n",
    "plt.show()"
   ]
  },
  {
   "cell_type": "markdown",
   "metadata": {},
   "source": [
    "**Vemos como como el número de goles más frecuente por partido se sitúa entre 0 y 2 goles.**"
   ]
  },
  {
   "cell_type": "markdown",
   "metadata": {},
   "source": [
    "##  Boxplot goles en cada Worldcup"
   ]
  },
  {
   "cell_type": "code",
   "execution_count": 58,
   "metadata": {
    "ExecuteTime": {
     "end_time": "2020-03-15T09:09:00.459231Z",
     "start_time": "2020-03-15T09:08:59.704156Z"
    }
   },
   "outputs": [
    {
     "data": {
      "image/png": "[encoded data removed]",
      "text/plain": [
       "<Figure size 1080x576 with 1 Axes>"
      ]
     },
     "metadata": {
      "needs_background": "light"
     },
     "output_type": "display_data"
    }
   ],
   "source": [
    "plt.figure(figsize = (15,8))\n",
    "\n",
    "sns.boxplot(y = worldcup[\"total_goals\"], x = worldcup[\"year\"])\n",
    "plt.grid(True)\n",
    "\n",
    "plt.title(\"Boxplot Goles en cada Worldcup\")\n",
    "plt.show()"
   ]
  },
  {
   "cell_type": "markdown",
   "metadata": {},
   "source": [
    "**Obtenemos una visualización conjunta de cuál es el mínimo y máximo número de goles por partido en cada Worldcup, así como la mediana, primer y tercer quartile y número de partidos con número desproporcionado de goles (outliers).**"
   ]
  },
  {
   "cell_type": "markdown",
   "metadata": {},
   "source": [
    "## Scatter Plot Número Partidos vs Numero Goles Totales"
   ]
  },
  {
   "cell_type": "code",
   "execution_count": 70,
   "metadata": {
    "ExecuteTime": {
     "end_time": "2020-03-15T09:56:01.252662Z",
     "start_time": "2020-03-15T09:56:01.055466Z"
    }
   },
   "outputs": [
    {
     "data": {
      "image/png": "[encoded data removed]",
      "text/plain": [
       "<Figure size 432x288 with 1 Axes>"
      ]
     },
     "metadata": {
      "needs_background": "light"
     },
     "output_type": "display_data"
    }
   ],
   "source": [
    "fig, ax = plt.subplots()\n",
    "\n",
    "\n",
    "ax.scatter(worldcup.groupby(['year'])['country'].count(), worldcup.groupby(['year'])['total_goals'].sum())\n",
    "\n",
    "plt.title('Numero partidos vs Total Goles',fontsize = 15)\n",
    "plt.xlabel('Número partidos',fontsize=15)\n",
    "plt.ylabel('Total goles',fontsize = 15)\n",
    "plt.xticks(fontsize = 15)\n",
    "plt.yticks(fontsize = 10)\n",
    "\n",
    "plt.show()"
   ]
  },
  {
   "cell_type": "markdown",
   "metadata": {},
   "source": [
    "- **Como intuiamos anteriormente, el número de goles totales por Worldcup está influenciado por el número total de partidos que ha habido en cada edición**\n",
    "- A mayor número de partidos, mayor número de goles por regla general nos encontramos."
   ]
  }
 ],
 "metadata": {
  "kernelspec": {
   "display_name": "Python 3",
   "language": "python",
   "name": "python3"
  },
  "language_info": {
   "codemirror_mode": {
    "name": "ipython",
    "version": 3
   },
   "file_extension": ".py",
   "mimetype": "text/x-python",
   "name": "python",
   "nbconvert_exporter": "python",
   "pygments_lexer": "ipython3",
   "version": "3.8.0"
  },
  "toc": {
   "base_numbering": 1,
   "nav_menu": {},
   "number_sections": true,
   "sideBar": true,
   "skip_h1_title": false,
   "title_cell": "Table of Contents",
   "title_sidebar": "Contents",
   "toc_cell": false,
   "toc_position": {},
   "toc_section_display": true,
   "toc_window_display": false
  },
  "varInspector": {
   "cols": {
    "lenName": 16,
    "lenType": 16,
    "lenVar": 40
   },
   "kernels_config": {
    "python": {
     "delete_cmd_postfix": "",
     "delete_cmd_prefix": "del ",
     "library": "var_list.py",
     "varRefreshCmd": "print(var_dic_list())"
    },
    "r": {
     "delete_cmd_postfix": ") ",
     "delete_cmd_prefix": "rm(",
     "library": "var_list.r",
     "varRefreshCmd": "cat(var_dic_list()) "
    }
   },
   "types_to_exclude": [
    "module",
    "function",
    "builtin_function_or_method",
    "instance",
    "_Feature"
   ],
   "window_display": false
  }
 },
 "nbformat": 4,
 "nbformat_minor": 2
}
